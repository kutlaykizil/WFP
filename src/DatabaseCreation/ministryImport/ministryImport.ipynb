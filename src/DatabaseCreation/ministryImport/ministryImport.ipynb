{
 "cells": [
  {
   "cell_type": "code",
   "source": [
    "# 2003-2013 No license number\n",
    "import pandas as pd\n",
    "bk_res_old = pd.DataFrame()\n",
    "for i in range(2003, 2014):\n",
    "    bk = pd.read_excel(f'../files4Import/enerji-bakanligi/{i}.xls', header=2)\n",
    "    bk = bk[bk['YAKIT CİNSİ'] == 'RES']\n",
    "    bk_res_old = pd.concat([bk_res_old, bk])\n",
    "bk_res_old.drop(columns=['SIRA NO','YAKIT CİNSİ'], inplace=True)\n",
    "bk_res_old = bk_res_old.rename(columns={'  GEÇİCİ KABULTARİHİ': 'KABUL TARİHİ', 'İLAVE KURULU GÜÇ MWe': 'İLAVE KURULU GÜÇ (MWe)', 'ÜNİTE GÜCÜ MWe': 'ÜNİTE GÜCÜ (MWe)'})\n",
    "bk_res_old"
   ],
   "metadata": {
    "collapsed": false
   },
   "id": "8d81bfd9a5e45b8b",
   "outputs": [],
   "execution_count": null
  },
  {
   "cell_type": "code",
   "source": [
    "import sympy as sp\n",
    "\n",
    "def convert_to_float(text):\n",
    "    text = str(text)\n",
    "    # Replace all variables with symbols\n",
    "    text = text.replace(\"x\", \"*\")\n",
    "    text = text.replace(\"X\", \"*\")\n",
    "    text = text.replace(\",\", \".\")\n",
    "\n",
    "    if text == \"-\" or text == \"\":\n",
    "        return text\n",
    "    # Convert the expression to a sympy expression\n",
    "    expr = sp.sympify(text)\n",
    "    \n",
    "    # Evaluate the expression numerically\n",
    "    result = sp.N(expr)\n",
    "    result = float(result)\n",
    "    return result"
   ],
   "metadata": {
    "collapsed": false
   },
   "id": "b623fe08ac0beb35",
   "outputs": [],
   "execution_count": null
  },
  {
   "cell_type": "code",
   "source": [
    "import pandas as pd\n",
    "bk_res = pd.DataFrame()\n",
    "for i in range(2014, 2024):\n",
    "    if i >= 2019:\n",
    "        bk = pd.read_excel(f'../files4Import/enerji-bakanligi/{i}.xlsx', header=1)\n",
    "    else:\n",
    "        bk = pd.read_excel(f'../files4Import/enerji-bakanligi/{i}.xlsx', header=2)\n",
    "        bk.rename(columns={'  GEÇİCİ KABUL TARİHİ': 'KABUL TARİHİ', 'GEÇİCİ KABUL TARİHİ': 'KABUL TARİHİ'}, inplace=True)\n",
    "    if 'YAKIT CİNSİ' not in bk.columns:\n",
    "        bk = bk[bk['KAYNAK'] == 'RES']\n",
    "        bk.rename(columns={'KAYNAK': 'YAKIT CİNSİ'}, inplace=True)\n",
    "        \n",
    "    else:\n",
    "        bk = bk[bk['YAKIT CİNSİ'] == 'RES']\n",
    "        bk.rename(columns={'İLAVE KURULU GÜÇ MWe': 'İLAVE KURULU GÜÇ (MWe)', 'ÜNİTE GÜCÜ MWe': 'ÜNİTE GÜCÜ (MWe)',}, inplace=True)\n",
    "    bk_res = pd.concat([bk_res, bk])\n",
    "bk_res.drop(columns=['SIRA NO','YAKIT CİNSİ'], inplace=True)\n",
    "bk_res"
   ],
   "metadata": {
    "collapsed": false
   },
   "id": "435cfe55df214efa",
   "outputs": [],
   "execution_count": null
  },
  {
   "cell_type": "code",
   "source": [
    "from src.sshDb import ssh_db\n",
    "\n",
    "# Start SSH tunnel and connect to DB\n",
    "ssh_db.connect_ssh_db()\n",
    "# Get table wf from database\n",
    "wfPostgre = pd.read_sql_table('wf', ssh_db.engine)\n",
    "wfPostgre = wfPostgre.loc[wfPostgre['version'] == wfPostgre['version'].max()]\n",
    "\n",
    "ministryOfEnergy = pd.merge(wfPostgre[['id']], bk_res, right_on=\"LİSANS SAYISI\", left_on=wfPostgre[\"Lisans No\"], how=\"right\", suffixes=('', ''))\n",
    "ministryOfEnergy = pd.merge(ministryOfEnergy, bk_res_old, how='outer')\n",
    "\n",
    "ministryOfEnergy = ministryOfEnergy.set_index('id')\n",
    "ministryOfEnergy['LİSANS TARİHİ']= pd.to_datetime(ministryOfEnergy['LİSANS TARİHİ']) # Turn to UTC ???????\n",
    "\n",
    "\n",
    "#ministryOfEnergy[\"Calculated ÜNİTE GÜCÜ (MWe)\"] = ministryOfEnergy[\"ÜNİTE GÜCÜ (MWe)\"].apply(convert_to_float)\n",
    "\n",
    "\n",
    "ministryOfEnergy.to_sql('ministry_of_energy', ssh_db.engine, if_exists='replace', index=True)\n",
    "ministryOfEnergy"
   ],
   "metadata": {
    "collapsed": false
   },
   "id": "2b9a38586736de53",
   "outputs": [],
   "execution_count": null
  }
 ],
 "metadata": {
  "kernelspec": {
   "display_name": "Python 3",
   "language": "python",
   "name": "python3"
  },
  "language_info": {
   "codemirror_mode": {
    "name": "ipython",
    "version": 2
   },
   "file_extension": ".py",
   "mimetype": "text/x-python",
   "name": "python",
   "nbconvert_exporter": "python",
   "pygments_lexer": "ipython2",
   "version": "2.7.6"
  }
 },
 "nbformat": 4,
 "nbformat_minor": 5
}
