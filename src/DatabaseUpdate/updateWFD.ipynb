{
 "cells": [
  {
   "cell_type": "code",
   "id": "initial_id",
   "metadata": {
    "collapsed": true
   },
   "source": [],
   "outputs": [],
   "execution_count": null
  },
  {
   "cell_type": "code",
   "source": [
    "from src.DatabaseUpdate.epdkUpdate import epdkUpdate\n",
    "from src.DatabaseUpdate.ministryUpdate import ministryUpdate\n",
    "from src.DatabaseUpdate.epiasProdUpdate import epiasGetProds\n",
    "from src.DatabaseUpdate.checks import checks\n",
    "\n",
    "epdkUpdate()"
   ],
   "metadata": {
    "collapsed": false
   },
   "id": "5412f8efd2782043",
   "outputs": [],
   "execution_count": null
  }
 ],
 "metadata": {
  "kernelspec": {
   "display_name": "Python 3",
   "language": "python",
   "name": "python3"
  },
  "language_info": {
   "codemirror_mode": {
    "name": "ipython",
    "version": 2
   },
   "file_extension": ".py",
   "mimetype": "text/x-python",
   "name": "python",
   "nbconvert_exporter": "python",
   "pygments_lexer": "ipython2",
   "version": "2.7.6"
  }
 },
 "nbformat": 4,
 "nbformat_minor": 5
}
